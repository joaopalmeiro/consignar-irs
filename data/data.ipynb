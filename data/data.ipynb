{
 "cells": [
  {
   "cell_type": "code",
   "execution_count": null,
   "id": "f90d36ea-e13b-4d8e-b505-c92f471e113e",
   "metadata": {},
   "outputs": [],
   "source": [
    "import pandas as pd"
   ]
  },
  {
   "cell_type": "code",
   "execution_count": null,
   "id": "852290ee-7e25-440b-846f-25db8a1b69ab",
   "metadata": {},
   "outputs": [],
   "source": [
    "DATA: str = \"Listagem_entidades_autorizadas_a_beneficiar_da_consignacao_2021.xlsx\""
   ]
  },
  {
   "cell_type": "code",
   "execution_count": null,
   "id": "3f589009-751e-4aae-95f4-a9a491aa4b38",
   "metadata": {},
   "outputs": [],
   "source": [
    "df = pd.read_excel(DATA, engine=\"openpyxl\", skiprows=5)"
   ]
  },
  {
   "cell_type": "code",
   "execution_count": null,
   "id": "5bb81207-1ece-48f5-845a-e14a461a8046",
   "metadata": {},
   "outputs": [],
   "source": [
    "df.head()"
   ]
  },
  {
   "cell_type": "code",
   "execution_count": null,
   "id": "41175b76-8564-4452-af77-6a6385272b8a",
   "metadata": {},
   "outputs": [],
   "source": [
    "df.tail()"
   ]
  },
  {
   "cell_type": "code",
   "execution_count": null,
   "id": "d4dae5f1-04b0-4242-8241-b6104afc1d7d",
   "metadata": {},
   "outputs": [],
   "source": [
    "df.shape"
   ]
  },
  {
   "cell_type": "code",
   "execution_count": null,
   "id": "7f9335d1-c261-4978-a076-3f982eb478a7",
   "metadata": {},
   "outputs": [],
   "source": [
    "df.dtypes"
   ]
  },
  {
   "cell_type": "code",
   "execution_count": null,
   "id": "0597d357-97f8-4ac7-b310-96fcd0871a6f",
   "metadata": {},
   "outputs": [],
   "source": [
    "df[\"LOCALIDADE\"].value_counts(dropna=False, normalize=True)"
   ]
  },
  {
   "cell_type": "code",
   "execution_count": null,
   "id": "e1d50dcc-2c18-4a7c-ac33-75dde376a029",
   "metadata": {},
   "outputs": [],
   "source": [
    "df.to_json(\"../src/data.json\", orient=\"records\", force_ascii=False)"
   ]
  },
  {
   "cell_type": "markdown",
   "id": "c7fb2f3e-5131-4d9a-a9ad-bea14c6c3d15",
   "metadata": {},
   "source": [
    "---"
   ]
  }
 ],
 "metadata": {
  "kernelspec": {
   "display_name": "Python 3 (ipykernel)",
   "language": "python",
   "name": "python3"
  },
  "language_info": {
   "codemirror_mode": {
    "name": "ipython",
    "version": 3
   },
   "file_extension": ".py",
   "mimetype": "text/x-python",
   "name": "python",
   "nbconvert_exporter": "python",
   "pygments_lexer": "ipython3",
   "version": "3.7.12"
  }
 },
 "nbformat": 4,
 "nbformat_minor": 5
}
